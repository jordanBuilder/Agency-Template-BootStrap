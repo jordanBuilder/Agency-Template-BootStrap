{
  "cells": [
    {
      "cell_type": "code",
      "execution_count": null,
      "id": "614ae54b",
      "metadata": {
        "id": "614ae54b"
      },
      "outputs": [],
      "source": [
        "import numpy as np\n",
        "import pandas as pd"
      ]
    },
    {
      "cell_type": "code",
      "execution_count": null,
      "id": "067a912b",
      "metadata": {
        "id": "067a912b",
        "outputId": "6d8cdf40-6014-45e4-e413-5427591b5bdc"
      },
      "outputs": [
        {
          "data": {
            "text/html": [
              "<div>\n",
              "<style scoped>\n",
              "    .dataframe tbody tr th:only-of-type {\n",
              "        vertical-align: middle;\n",
              "    }\n",
              "\n",
              "    .dataframe tbody tr th {\n",
              "        vertical-align: top;\n",
              "    }\n",
              "\n",
              "    .dataframe thead th {\n",
              "        text-align: right;\n",
              "    }\n",
              "</style>\n",
              "<table border=\"1\" class=\"dataframe\">\n",
              "  <thead>\n",
              "    <tr style=\"text-align: right;\">\n",
              "      <th></th>\n",
              "      <th>identifiant</th>\n",
              "      <th>ville</th>\n",
              "      <th>CP</th>\n",
              "      <th>revenu</th>\n",
              "      <th>remboursement</th>\n",
              "      <th>duree</th>\n",
              "      <th>type</th>\n",
              "      <th>taux_interet</th>\n",
              "      <th>taux_endettement</th>\n",
              "      <th>cout_total</th>\n",
              "      <th>benefices</th>\n",
              "      <th>risque</th>\n",
              "    </tr>\n",
              "  </thead>\n",
              "  <tbody>\n",
              "    <tr>\n",
              "      <th>0</th>\n",
              "      <td>0</td>\n",
              "      <td>TOULOUSE</td>\n",
              "      <td>31100</td>\n",
              "      <td>3669.0</td>\n",
              "      <td>1130.05</td>\n",
              "      <td>240</td>\n",
              "      <td>immobilier</td>\n",
              "      <td>1.168</td>\n",
              "      <td>30.80</td>\n",
              "      <td>271212.0</td>\n",
              "      <td>131.99</td>\n",
              "      <td>Non</td>\n",
              "    </tr>\n",
              "    <tr>\n",
              "      <th>1</th>\n",
              "      <td>1</td>\n",
              "      <td>PARIS</td>\n",
              "      <td>75009</td>\n",
              "      <td>5310.0</td>\n",
              "      <td>240.00</td>\n",
              "      <td>64</td>\n",
              "      <td>automobile</td>\n",
              "      <td>3.701</td>\n",
              "      <td>4.52</td>\n",
              "      <td>15360.0</td>\n",
              "      <td>23.69</td>\n",
              "      <td>Non</td>\n",
              "    </tr>\n",
              "    <tr>\n",
              "      <th>2</th>\n",
              "      <td>1</td>\n",
              "      <td>PARIS</td>\n",
              "      <td>75009</td>\n",
              "      <td>5310.0</td>\n",
              "      <td>1247.85</td>\n",
              "      <td>300</td>\n",
              "      <td>immobilier</td>\n",
              "      <td>1.173</td>\n",
              "      <td>23.50</td>\n",
              "      <td>374355.0</td>\n",
              "      <td>182.97</td>\n",
              "      <td>Non</td>\n",
              "    </tr>\n",
              "    <tr>\n",
              "      <th>3</th>\n",
              "      <td>2</td>\n",
              "      <td>MARSEILLE</td>\n",
              "      <td>13010</td>\n",
              "      <td>1873.0</td>\n",
              "      <td>552.54</td>\n",
              "      <td>240</td>\n",
              "      <td>immobilier</td>\n",
              "      <td>0.972</td>\n",
              "      <td>29.50</td>\n",
              "      <td>132609.6</td>\n",
              "      <td>53.71</td>\n",
              "      <td>Non</td>\n",
              "    </tr>\n",
              "    <tr>\n",
              "      <th>4</th>\n",
              "      <td>3</td>\n",
              "      <td>MARSEILLE</td>\n",
              "      <td>13010</td>\n",
              "      <td>1684.0</td>\n",
              "      <td>586.03</td>\n",
              "      <td>180</td>\n",
              "      <td>immobilier</td>\n",
              "      <td>1.014</td>\n",
              "      <td>34.80</td>\n",
              "      <td>105485.4</td>\n",
              "      <td>44.57</td>\n",
              "      <td>Non</td>\n",
              "    </tr>\n",
              "  </tbody>\n",
              "</table>\n",
              "</div>"
            ],
            "text/plain": [
              "   identifiant      ville     CP  revenu  remboursement  duree        type   \n",
              "0            0   TOULOUSE  31100  3669.0        1130.05    240  immobilier  \\\n",
              "1            1      PARIS  75009  5310.0         240.00     64  automobile   \n",
              "2            1      PARIS  75009  5310.0        1247.85    300  immobilier   \n",
              "3            2  MARSEILLE  13010  1873.0         552.54    240  immobilier   \n",
              "4            3  MARSEILLE  13010  1684.0         586.03    180  immobilier   \n",
              "\n",
              "   taux_interet  taux_endettement  cout_total  benefices risque  \n",
              "0         1.168             30.80    271212.0     131.99    Non  \n",
              "1         3.701              4.52     15360.0      23.69    Non  \n",
              "2         1.173             23.50    374355.0     182.97    Non  \n",
              "3         0.972             29.50    132609.6      53.71    Non  \n",
              "4         1.014             34.80    105485.4      44.57    Non  "
            ]
          },
          "execution_count": 2,
          "metadata": {},
          "output_type": "execute_result"
        }
      ],
      "source": [
        "# traitement réalisés précédemment\n",
        "prets = pd.read_csv('https://raw.githubusercontent.com/OpenClassrooms-Student-Center/fr-4452741-decouvrez-les-librairies-python-pour-la-data-science/main/data/prets.csv')\n",
        "\n",
        "# calcul du taux d'endettement\n",
        "prets['taux_endettement'] = round(prets['remboursement'] * 100 / prets['revenu'], 2)\n",
        "\n",
        "# renommer taux en taux_interet\n",
        "prets.rename(columns={'taux':'taux_interet'}, inplace=True)\n",
        "\n",
        "# calculer le cout total du pret\n",
        "prets['cout_total'] = prets['remboursement'] * prets['duree']\n",
        "\n",
        "# calculer les bénéfices mensuels réalisés\n",
        "prets['benefices'] = round((prets['cout_total'] * prets['taux_interet']/100)/(24), 2)\n",
        "\n",
        "# création d'une variable risque\n",
        "prets['risque'] = 'Non'\n",
        "prets.loc[prets['taux_endettement'] > 35, 'risque'] = 'Oui'\n",
        "\n",
        "prets.head()"
      ]
    },
    {
      "cell_type": "markdown",
      "id": "e22cf83f",
      "metadata": {
        "id": "e22cf83f"
      },
      "source": [
        "![openclassrooms](https://s3.eu-west-1.amazonaws.com/course.oc-static.com/courses/6204541/1+HnqdJ-5ofxiPP9HIxdNdpw.jpeg)\n",
        "\n",
        "# Agrégez des données avec Pandas\n",
        "\n",
        "Suite aux résultats que vous avez fourni précédemment, le responsable du service prêt revient vous voir avec une remarque : vous l’avez probablement remarqué, mais certains clients ont contracté plusieurs prêts au sein de notre établissement. Cela fausse donc potentiellement les calculs réalisés précédemment.\n",
        "\n",
        "Il formule donc des demandes additionnelles, auxquelles vous allez devoir répondre en appliquant diverses agrégations."
      ]
    },
    {
      "cell_type": "markdown",
      "id": "ba8605b6",
      "metadata": {
        "id": "ba8605b6"
      },
      "source": [
        "Pourriez vous créez un dataframe profil client pour pallier ce problème ?\n",
        "\n",
        "Par profil client, nous entendons un dataframe où il y n'y a qu'une seule ligne par client, avec le résumé de ses informations (somme remboursement, du taux d'endettement, du cout_total et des bénéfices réalisés)"
      ]
    },
    {
      "cell_type": "code",
      "execution_count": null,
      "id": "895b050e",
      "metadata": {
        "id": "895b050e",
        "outputId": "66734169-fdce-483f-83be-1adb9e9b4e1a"
      },
      "outputs": [
        {
          "data": {
            "text/html": [
              "<div>\n",
              "<style scoped>\n",
              "    .dataframe tbody tr th:only-of-type {\n",
              "        vertical-align: middle;\n",
              "    }\n",
              "\n",
              "    .dataframe tbody tr th {\n",
              "        vertical-align: top;\n",
              "    }\n",
              "\n",
              "    .dataframe thead th {\n",
              "        text-align: right;\n",
              "    }\n",
              "</style>\n",
              "<table border=\"1\" class=\"dataframe\">\n",
              "  <thead>\n",
              "    <tr style=\"text-align: right;\">\n",
              "      <th></th>\n",
              "      <th>identifiant</th>\n",
              "      <th>remboursement</th>\n",
              "      <th>taux_endettement</th>\n",
              "      <th>cout_total</th>\n",
              "      <th>benefices</th>\n",
              "    </tr>\n",
              "  </thead>\n",
              "  <tbody>\n",
              "    <tr>\n",
              "      <th>0</th>\n",
              "      <td>0</td>\n",
              "      <td>1130.05</td>\n",
              "      <td>30.80</td>\n",
              "      <td>271212.0</td>\n",
              "      <td>131.99</td>\n",
              "    </tr>\n",
              "    <tr>\n",
              "      <th>1</th>\n",
              "      <td>1</td>\n",
              "      <td>1487.85</td>\n",
              "      <td>28.02</td>\n",
              "      <td>389715.0</td>\n",
              "      <td>206.66</td>\n",
              "    </tr>\n",
              "    <tr>\n",
              "      <th>2</th>\n",
              "      <td>2</td>\n",
              "      <td>552.54</td>\n",
              "      <td>29.50</td>\n",
              "      <td>132609.6</td>\n",
              "      <td>53.71</td>\n",
              "    </tr>\n",
              "    <tr>\n",
              "      <th>3</th>\n",
              "      <td>3</td>\n",
              "      <td>586.03</td>\n",
              "      <td>34.80</td>\n",
              "      <td>105485.4</td>\n",
              "      <td>44.57</td>\n",
              "    </tr>\n",
              "    <tr>\n",
              "      <th>4</th>\n",
              "      <td>4</td>\n",
              "      <td>423.61</td>\n",
              "      <td>28.70</td>\n",
              "      <td>101666.4</td>\n",
              "      <td>51.21</td>\n",
              "    </tr>\n",
              "  </tbody>\n",
              "</table>\n",
              "</div>"
            ],
            "text/plain": [
              "   identifiant  remboursement  taux_endettement  cout_total  benefices\n",
              "0            0        1130.05             30.80    271212.0     131.99\n",
              "1            1        1487.85             28.02    389715.0     206.66\n",
              "2            2         552.54             29.50    132609.6      53.71\n",
              "3            3         586.03             34.80    105485.4      44.57\n",
              "4            4         423.61             28.70    101666.4      51.21"
            ]
          },
          "execution_count": 3,
          "metadata": {},
          "output_type": "execute_result"
        }
      ],
      "source": [
        "profil_clients = prets.groupby('identifiant')[['remboursement','taux_endettement','cout_total','benefices']].sum()\n",
        "profil_clients.reset_index(inplace=True)\n",
        "profil_clients.head()"
      ]
    },
    {
      "cell_type": "markdown",
      "id": "5fdc73dc",
      "metadata": {
        "id": "5fdc73dc"
      },
      "source": [
        "Recalculez le nombre exact de personnes en situation bancaire risquée à partir du taux d'endettemment :"
      ]
    },
    {
      "cell_type": "code",
      "execution_count": null,
      "id": "27bf9fc3",
      "metadata": {
        "id": "27bf9fc3",
        "outputId": "479b9090-44aa-49cf-9686-f4a4d0374f4a"
      },
      "outputs": [
        {
          "name": "stdout",
          "output_type": "stream",
          "text": [
            "Il y a 62 clients qui ont dépassé le seuil autorisé\n"
          ]
        }
      ],
      "source": [
        "nombre_client_risque = profil_clients.loc[profil_clients['taux_endettement'] > 35, :].shape[0]\n",
        "print('Il y a', nombre_client_risque, 'clients qui ont dépassé le seuil autorisé')"
      ]
    },
    {
      "cell_type": "markdown",
      "id": "51a4d516",
      "metadata": {
        "id": "51a4d516"
      },
      "source": [
        "Calculez le bénéfice dégagé par chacune de nos agences, par types de prêts. Vous présenterez vos résultats sous la forme d'un tableau simple (via un `group_by`) :"
      ]
    },
    {
      "cell_type": "code",
      "execution_count": null,
      "id": "98e13e6f",
      "metadata": {
        "id": "98e13e6f",
        "outputId": "0e2681de-cbc0-46af-d8d5-2edaaeb4b111"
      },
      "outputs": [
        {
          "data": {
            "text/plain": [
              "ville      type      \n",
              "BORDEAUX   immobilier    1681.32\n",
              "LYON       automobile      47.39\n",
              "           immobilier    2967.41\n",
              "MARSEILLE  automobile      61.36\n",
              "           immobilier    4334.55\n",
              "NICE       automobile      31.15\n",
              "           immobilier    2651.60\n",
              "PARIS      automobile      99.50\n",
              "           immobilier    9916.85\n",
              "TOULOUSE   automobile      61.22\n",
              "           immobilier    2076.85\n",
              "Name: benefices, dtype: float64"
            ]
          },
          "execution_count": 5,
          "metadata": {},
          "output_type": "execute_result"
        }
      ],
      "source": [
        "prets.groupby(['ville','type'])['benefices'].sum()"
      ]
    },
    {
      "cell_type": "markdown",
      "id": "3978a787",
      "metadata": {
        "id": "3978a787"
      },
      "source": [
        "Pour aller plus loin, on souhaite avoir un tableau à double entrée (via un `pivot_table`) présentant cette fois ci les bénéfices moyen réalisés par chaque agence, pour chaque type de prêt :"
      ]
    },
    {
      "cell_type": "code",
      "execution_count": null,
      "id": "3a7c4238",
      "metadata": {
        "id": "3a7c4238",
        "outputId": "7c6ece14-155c-455a-8247-967b71cd2ba8"
      },
      "outputs": [
        {
          "data": {
            "text/html": [
              "<div>\n",
              "<style scoped>\n",
              "    .dataframe tbody tr th:only-of-type {\n",
              "        vertical-align: middle;\n",
              "    }\n",
              "\n",
              "    .dataframe tbody tr th {\n",
              "        vertical-align: top;\n",
              "    }\n",
              "\n",
              "    .dataframe thead th {\n",
              "        text-align: right;\n",
              "    }\n",
              "</style>\n",
              "<table border=\"1\" class=\"dataframe\">\n",
              "  <thead>\n",
              "    <tr style=\"text-align: right;\">\n",
              "      <th>type</th>\n",
              "      <th>automobile</th>\n",
              "      <th>immobilier</th>\n",
              "    </tr>\n",
              "    <tr>\n",
              "      <th>ville</th>\n",
              "      <th></th>\n",
              "      <th></th>\n",
              "    </tr>\n",
              "  </thead>\n",
              "  <tbody>\n",
              "    <tr>\n",
              "      <th>BORDEAUX</th>\n",
              "      <td>NaN</td>\n",
              "      <td>105.082500</td>\n",
              "    </tr>\n",
              "    <tr>\n",
              "      <th>LYON</th>\n",
              "      <td>15.796667</td>\n",
              "      <td>118.696400</td>\n",
              "    </tr>\n",
              "    <tr>\n",
              "      <th>MARSEILLE</th>\n",
              "      <td>20.453333</td>\n",
              "      <td>60.202083</td>\n",
              "    </tr>\n",
              "    <tr>\n",
              "      <th>NICE</th>\n",
              "      <td>15.575000</td>\n",
              "      <td>139.557895</td>\n",
              "    </tr>\n",
              "    <tr>\n",
              "      <th>PARIS</th>\n",
              "      <td>19.900000</td>\n",
              "      <td>137.734028</td>\n",
              "    </tr>\n",
              "    <tr>\n",
              "      <th>TOULOUSE</th>\n",
              "      <td>20.406667</td>\n",
              "      <td>86.535417</td>\n",
              "    </tr>\n",
              "  </tbody>\n",
              "</table>\n",
              "</div>"
            ],
            "text/plain": [
              "type       automobile  immobilier\n",
              "ville                            \n",
              "BORDEAUX          NaN  105.082500\n",
              "LYON        15.796667  118.696400\n",
              "MARSEILLE   20.453333   60.202083\n",
              "NICE        15.575000  139.557895\n",
              "PARIS       19.900000  137.734028\n",
              "TOULOUSE    20.406667   86.535417"
            ]
          },
          "execution_count": 6,
          "metadata": {},
          "output_type": "execute_result"
        }
      ],
      "source": [
        "prets.pivot_table(index='ville', columns='type', values='benefices', aggfunc=np.mean)"
      ]
    },
    {
      "cell_type": "markdown",
      "id": "95ffa0f2",
      "metadata": {
        "id": "95ffa0f2"
      },
      "source": [
        "Quelle ville semble la plus intéressante où développer les prêts immobiliers ?"
      ]
    },
    {
      "cell_type": "markdown",
      "id": "40fd9994",
      "metadata": {
        "id": "40fd9994"
      },
      "source": [
        "**La ville de Nice (ou Paris dans une moindre mesure). C'est là où la marge réalisée est la plus élevée sur les prêts immobiliers.**"
      ]
    },
    {
      "cell_type": "code",
      "execution_count": null,
      "id": "7256f974",
      "metadata": {
        "id": "7256f974"
      },
      "outputs": [],
      "source": []
    }
  ],
  "metadata": {
    "kernelspec": {
      "display_name": "Python 3 (ipykernel)",
      "language": "python",
      "name": "python3"
    },
    "language_info": {
      "codemirror_mode": {
        "name": "ipython",
        "version": 3
      },
      "file_extension": ".py",
      "mimetype": "text/x-python",
      "name": "python",
      "nbconvert_exporter": "python",
      "pygments_lexer": "ipython3",
      "version": "3.9.13"
    },
    "colab": {
      "provenance": []
    }
  },
  "nbformat": 4,
  "nbformat_minor": 5
}